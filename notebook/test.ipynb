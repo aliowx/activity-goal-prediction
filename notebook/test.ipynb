{
 "cells": [
  {
   "cell_type": "markdown",
   "id": "b80059f6",
   "metadata": {},
   "source": [
    "<table align=\"left\">\n",
    "  <td>\n",
    "    <a href=\"https://colab.research.google.com/github/ageron/handson-ml3/blob/main/02_end_to_end_machine_learning_project.ipynb\" target=\"_parent\"><img src=\"https://colab.research.google.com/assets/colab-badge.svg\" alt=\"Open In Colab\"/></a>\n",
    "  </td>\n",
    "  <td>\n",
    "    <a target=\"_blank\" href=\"https://kaggle.com/kernels/welcome?src=https://github.com/ageron/handson-ml3/blob/main/02_end_to_end_machine_learning_project.ipynb\"><img src=\"https://kaggle.com/static/images/open-in-kaggle.svg\" /></a>\n",
    "  </td>\n",
    "</table>"
   ]
  },
  {
   "cell_type": "markdown",
   "id": "8f2372cc",
   "metadata": {},
   "source": [
    "# Import the packege"
   ]
  },
  {
   "cell_type": "code",
   "execution_count": 75,
   "id": "8ccc4893",
   "metadata": {},
   "outputs": [],
   "source": [
    "import pandas as pd\n",
    "import numpy as np\n",
    "import matplotlib.pyplot as plt\n",
    "import seaborn as sns\n",
    "from sklearn.model_selection import train_test_split, cross_validate, RepeatedKFold, GridSearchCV\n",
    "from sklearn.pipeline import Pipeline\n",
    "from sklearn.preprocessing import StandardScaler, PolynomialFeatures\n",
    "from sklearn.experimental import enable_iterative_imputer\n",
    "from sklearn.impute import IterativeImputer\n",
    "from sklearn.linear_model import LinearRegression, Ridge, Lasso, ElasticNet\n",
    "from sklearn.ensemble import RandomForestRegressor, ExtraTreesRegressor, GradientBoostingRegressor, StackingRegressor\n",
    "from sklearn.neighbors import KNeighborsRegressor\n",
    "from sklearn.neural_network import MLPRegressor\n",
    "from sklearn.metrics import mean_absolute_error, mean_squared_error, r2_score, median_absolute_error\n",
    "from sklearn.feature_selection import SelectKBest, f_regression\n",
    "from sklearn.decomposition import PCA\n",
    "from xgboost import XGBRegressor\n",
    "from sklearn.base import BaseEstimator, TransformerMixin\n",
    "import shap\n",
    "from scipy.stats import wilcoxon, bootstrap\n",
    "import logging\n",
    "import warnings\n",
    "from sklearn.impute import KNNImputer\n",
    "import random\n",
    "warnings.filterwarnings('ignore')"
   ]
  },
  {
   "cell_type": "markdown",
   "id": "f84cd3be",
   "metadata": {},
   "source": [
    "## logging fit"
   ]
  },
  {
   "cell_type": "code",
   "execution_count": 76,
   "id": "a190216d",
   "metadata": {},
   "outputs": [],
   "source": [
    "logging.basicConfig(level=logging.INFO, format='%(asctime)s - %(levelname)s - %(message)s')\n",
    "logger = logging.getLogger(__name__)"
   ]
  },
  {
   "cell_type": "markdown",
   "id": "2e0721b0",
   "metadata": {},
   "source": [
    "## seed"
   ]
  },
  {
   "cell_type": "code",
   "execution_count": 77,
   "id": "56fbdd2c",
   "metadata": {},
   "outputs": [],
   "source": [
    "random.seed(42)\n",
    "np.random.seed(42)"
   ]
  },
  {
   "cell_type": "markdown",
   "id": "0fd0e32a",
   "metadata": {},
   "source": [
    "# read data set"
   ]
  },
  {
   "cell_type": "code",
   "execution_count": 78,
   "id": "b316386e",
   "metadata": {},
   "outputs": [
    {
     "name": "stderr",
     "output_type": "stream",
     "text": [
      "2025-06-05 08:51:26,598 - INFO - change the xlsx form csv file done! \n"
     ]
    }
   ],
   "source": [
    "df_xlsx = pd.read_excel('../data/DummyData.xlsx')\n",
    "\n",
    "df_xlsx.to_csv('../data/DummyData.csv', index=False)\n",
    "logger.info(\"change the xlsx form csv file done! \")"
   ]
  },
  {
   "cell_type": "code",
   "execution_count": 79,
   "id": "cc33d72a",
   "metadata": {},
   "outputs": [
    {
     "name": "stderr",
     "output_type": "stream",
     "text": [
      "2025-06-05 08:51:26,749 - INFO - read the csv file\n"
     ]
    }
   ],
   "source": [
    "df = pd.read_csv('../data/DummyData.csv')\n",
    "logger.info('read the csv file')"
   ]
  },
  {
   "cell_type": "markdown",
   "id": "c6c3d218",
   "metadata": {},
   "source": [
    "## Important columns\n",
    "\tsex: Gender (likely 1 for male and 2 for female, as all rows are 2).\n",
    "\n",
    "\tage: Age (all are 34 years old, so the data might be for a specific person or group).\n",
    "\n",
    "\teducational_status: Educational status (3.0, likely a code for a specific educational level, such as bachelor’s or higher).\n",
    "\n",
    "\tpartner_status: Marital status (0.0, possibly indicating single).\n",
    "\n",
    "\temployment_status: Employment status (2.0, possibly indicating employed or unemployed, depending on the coding).\n",
    "\n",
    "\tweight, height, BMI: Weight (48 kg), height (164 cm), and Body Mass Index (17.85, indicating the person is underweight).\n",
    "\n",
    "\ttreatment, EMI, nitrate, diuretic, psychotropic, angiotensin2_receptor_blocker: Variables related to treatment and medications (all are 0.0, suggesting the person is not taking any medication).\n",
    "\n",
    "\tweek: Week (from 1 to 5, likely indicating data was collected weekly).\n",
    "\n",
    "\tsteps: Number of steps per week (e.g., 72,765 steps in the first week).\n",
    "\n",
    "\tmvpa_mins: Minutes of Moderate to Vigorous Physical Activity per week (e.g., 2,105 minutes in the first week).\n",
    "\n",
    "\tperception: A variable likely related to perception or self-assessment (possibly of physical activity or health, ranging from 2 to 16).\n",
    "\n",
    "\tsteps_goal, mvpa_mins_goal: Goals for steps and physical activity (e.g., step goal of 95,047 and activity goal of 2,509 minutes in the first week)."
   ]
  },
  {
   "cell_type": "code",
   "execution_count": 80,
   "id": "34b03a14",
   "metadata": {},
   "outputs": [
    {
     "name": "stderr",
     "output_type": "stream",
     "text": [
      "2025-06-05 08:51:26,846 - INFO - copy data set done!\n"
     ]
    }
   ],
   "source": [
    "df_original = df.copy()\n",
    "logger.info(\"copy data set done!\")"
   ]
  },
  {
   "cell_type": "code",
   "execution_count": 81,
   "id": "46c309d4",
   "metadata": {},
   "outputs": [
    {
     "data": {
      "text/html": [
       "<div>\n",
       "<style scoped>\n",
       "    .dataframe tbody tr th:only-of-type {\n",
       "        vertical-align: middle;\n",
       "    }\n",
       "\n",
       "    .dataframe tbody tr th {\n",
       "        vertical-align: top;\n",
       "    }\n",
       "\n",
       "    .dataframe thead th {\n",
       "        text-align: right;\n",
       "    }\n",
       "</style>\n",
       "<table border=\"1\" class=\"dataframe\">\n",
       "  <thead>\n",
       "    <tr style=\"text-align: right;\">\n",
       "      <th></th>\n",
       "      <th>sex</th>\n",
       "      <th>age</th>\n",
       "      <th>educational_status</th>\n",
       "      <th>partner_status</th>\n",
       "      <th>employment_status</th>\n",
       "      <th>weight</th>\n",
       "      <th>height</th>\n",
       "      <th>BMI</th>\n",
       "      <th>treatment</th>\n",
       "      <th>EMI</th>\n",
       "      <th>...</th>\n",
       "      <th>nitrate</th>\n",
       "      <th>diuretic</th>\n",
       "      <th>psychotropic</th>\n",
       "      <th>angiotensin2_receptor_blocker</th>\n",
       "      <th>week</th>\n",
       "      <th>steps</th>\n",
       "      <th>mvpa_mins</th>\n",
       "      <th>perception</th>\n",
       "      <th>steps_goal</th>\n",
       "      <th>mvpa_mins_goal</th>\n",
       "    </tr>\n",
       "  </thead>\n",
       "  <tbody>\n",
       "    <tr>\n",
       "      <th>0</th>\n",
       "      <td>2</td>\n",
       "      <td>34.0</td>\n",
       "      <td>3.0</td>\n",
       "      <td>0.0</td>\n",
       "      <td>2.0</td>\n",
       "      <td>48.0</td>\n",
       "      <td>164.0</td>\n",
       "      <td>17.85</td>\n",
       "      <td>0.0</td>\n",
       "      <td>0.0</td>\n",
       "      <td>...</td>\n",
       "      <td>0.0</td>\n",
       "      <td>0.0</td>\n",
       "      <td>0.0</td>\n",
       "      <td>0.0</td>\n",
       "      <td>1.0</td>\n",
       "      <td>72765</td>\n",
       "      <td>2105</td>\n",
       "      <td>16</td>\n",
       "      <td>95047.0</td>\n",
       "      <td>2509.0</td>\n",
       "    </tr>\n",
       "    <tr>\n",
       "      <th>1</th>\n",
       "      <td>2</td>\n",
       "      <td>34.0</td>\n",
       "      <td>3.0</td>\n",
       "      <td>0.0</td>\n",
       "      <td>2.0</td>\n",
       "      <td>48.0</td>\n",
       "      <td>164.0</td>\n",
       "      <td>17.85</td>\n",
       "      <td>0.0</td>\n",
       "      <td>0.0</td>\n",
       "      <td>...</td>\n",
       "      <td>0.0</td>\n",
       "      <td>0.0</td>\n",
       "      <td>0.0</td>\n",
       "      <td>0.0</td>\n",
       "      <td>2.0</td>\n",
       "      <td>53817</td>\n",
       "      <td>1557</td>\n",
       "      <td>2</td>\n",
       "      <td>74490.0</td>\n",
       "      <td>2063.0</td>\n",
       "    </tr>\n",
       "    <tr>\n",
       "      <th>2</th>\n",
       "      <td>2</td>\n",
       "      <td>34.0</td>\n",
       "      <td>3.0</td>\n",
       "      <td>0.0</td>\n",
       "      <td>2.0</td>\n",
       "      <td>48.0</td>\n",
       "      <td>164.0</td>\n",
       "      <td>17.85</td>\n",
       "      <td>0.0</td>\n",
       "      <td>0.0</td>\n",
       "      <td>...</td>\n",
       "      <td>0.0</td>\n",
       "      <td>0.0</td>\n",
       "      <td>0.0</td>\n",
       "      <td>0.0</td>\n",
       "      <td>3.0</td>\n",
       "      <td>58911</td>\n",
       "      <td>1704</td>\n",
       "      <td>4</td>\n",
       "      <td>70379.0</td>\n",
       "      <td>2163.0</td>\n",
       "    </tr>\n",
       "    <tr>\n",
       "      <th>3</th>\n",
       "      <td>2</td>\n",
       "      <td>34.0</td>\n",
       "      <td>3.0</td>\n",
       "      <td>0.0</td>\n",
       "      <td>2.0</td>\n",
       "      <td>48.0</td>\n",
       "      <td>164.0</td>\n",
       "      <td>17.85</td>\n",
       "      <td>0.0</td>\n",
       "      <td>0.0</td>\n",
       "      <td>...</td>\n",
       "      <td>0.0</td>\n",
       "      <td>0.0</td>\n",
       "      <td>0.0</td>\n",
       "      <td>0.0</td>\n",
       "      <td>4.0</td>\n",
       "      <td>85157</td>\n",
       "      <td>2463</td>\n",
       "      <td>8</td>\n",
       "      <td>125754.0</td>\n",
       "      <td>3164.0</td>\n",
       "    </tr>\n",
       "    <tr>\n",
       "      <th>4</th>\n",
       "      <td>2</td>\n",
       "      <td>34.0</td>\n",
       "      <td>3.0</td>\n",
       "      <td>0.0</td>\n",
       "      <td>2.0</td>\n",
       "      <td>48.0</td>\n",
       "      <td>164.0</td>\n",
       "      <td>17.85</td>\n",
       "      <td>0.0</td>\n",
       "      <td>0.0</td>\n",
       "      <td>...</td>\n",
       "      <td>0.0</td>\n",
       "      <td>0.0</td>\n",
       "      <td>0.0</td>\n",
       "      <td>0.0</td>\n",
       "      <td>5.0</td>\n",
       "      <td>51341</td>\n",
       "      <td>1485</td>\n",
       "      <td>12</td>\n",
       "      <td>68819.0</td>\n",
       "      <td>1886.0</td>\n",
       "    </tr>\n",
       "  </tbody>\n",
       "</table>\n",
       "<p>5 rows × 36 columns</p>\n",
       "</div>"
      ],
      "text/plain": [
       "   sex   age  educational_status  partner_status  employment_status  weight  \\\n",
       "0    2  34.0                 3.0             0.0                2.0    48.0   \n",
       "1    2  34.0                 3.0             0.0                2.0    48.0   \n",
       "2    2  34.0                 3.0             0.0                2.0    48.0   \n",
       "3    2  34.0                 3.0             0.0                2.0    48.0   \n",
       "4    2  34.0                 3.0             0.0                2.0    48.0   \n",
       "\n",
       "   height    BMI  treatment  EMI  ...  nitrate  diuretic  psychotropic  \\\n",
       "0   164.0  17.85        0.0  0.0  ...      0.0       0.0           0.0   \n",
       "1   164.0  17.85        0.0  0.0  ...      0.0       0.0           0.0   \n",
       "2   164.0  17.85        0.0  0.0  ...      0.0       0.0           0.0   \n",
       "3   164.0  17.85        0.0  0.0  ...      0.0       0.0           0.0   \n",
       "4   164.0  17.85        0.0  0.0  ...      0.0       0.0           0.0   \n",
       "\n",
       "   angiotensin2_receptor_blocker  week  steps  mvpa_mins  perception  \\\n",
       "0                            0.0   1.0  72765       2105          16   \n",
       "1                            0.0   2.0  53817       1557           2   \n",
       "2                            0.0   3.0  58911       1704           4   \n",
       "3                            0.0   4.0  85157       2463           8   \n",
       "4                            0.0   5.0  51341       1485          12   \n",
       "\n",
       "   steps_goal  mvpa_mins_goal  \n",
       "0     95047.0          2509.0  \n",
       "1     74490.0          2063.0  \n",
       "2     70379.0          2163.0  \n",
       "3    125754.0          3164.0  \n",
       "4     68819.0          1886.0  \n",
       "\n",
       "[5 rows x 36 columns]"
      ]
     },
     "execution_count": 81,
     "metadata": {},
     "output_type": "execute_result"
    }
   ],
   "source": [
    "df.head()"
   ]
  },
  {
   "cell_type": "code",
   "execution_count": 82,
   "id": "13a1da66",
   "metadata": {},
   "outputs": [
    {
     "name": "stdout",
     "output_type": "stream",
     "text": [
      "<class 'pandas.core.frame.DataFrame'>\n",
      "RangeIndex: 566 entries, 0 to 565\n",
      "Data columns (total 36 columns):\n",
      " #   Column                         Non-Null Count  Dtype  \n",
      "---  ------                         --------------  -----  \n",
      " 0   sex                            566 non-null    int64  \n",
      " 1   age                            564 non-null    float64\n",
      " 2   educational_status             561 non-null    float64\n",
      " 3   partner_status                 561 non-null    float64\n",
      " 4   employment_status              561 non-null    float64\n",
      " 5   weight                         561 non-null    float64\n",
      " 6   height                         561 non-null    float64\n",
      " 7   BMI                            561 non-null    float64\n",
      " 8   treatment                      561 non-null    float64\n",
      " 9   EMI                            559 non-null    float64\n",
      " 10  EAP                            559 non-null    float64\n",
      " 11  EPTCA                          559 non-null    float64\n",
      " 12  ECABG                          559 non-null    float64\n",
      " 13  ECVA_TIA                       559 non-null    float64\n",
      " 14  riskfactor_familyhistory       559 non-null    float64\n",
      " 15  riskfactor_DM                  559 non-null    float64\n",
      " 16  riskfactor_hypertension        561 non-null    float64\n",
      " 17  riskfactor_dyslipidemia        561 non-null    float64\n",
      " 18  riskfactor_smoking             561 non-null    float64\n",
      " 19  acetylsalicylic_acid           561 non-null    float64\n",
      " 20  cholesterol_lowering_med       561 non-null    float64\n",
      " 21  ACE_inhibitor                  561 non-null    float64\n",
      " 22  calcium_blocker                561 non-null    float64\n",
      " 23  beta_blocker                   561 non-null    float64\n",
      " 24  thienopyridine                 561 non-null    float64\n",
      " 25  oral_anticoagulant             561 non-null    float64\n",
      " 26  nitrate                        561 non-null    float64\n",
      " 27  diuretic                       561 non-null    float64\n",
      " 28  psychotropic                   561 non-null    float64\n",
      " 29  angiotensin2_receptor_blocker  561 non-null    float64\n",
      " 30  week                           561 non-null    float64\n",
      " 31  steps                          566 non-null    int64  \n",
      " 32  mvpa_mins                      566 non-null    int64  \n",
      " 33  perception                     566 non-null    int64  \n",
      " 34  steps_goal                     531 non-null    float64\n",
      " 35  mvpa_mins_goal                 530 non-null    float64\n",
      "dtypes: float64(32), int64(4)\n",
      "memory usage: 159.3 KB\n"
     ]
    }
   ],
   "source": [
    "df.info()"
   ]
  },
  {
   "cell_type": "code",
   "execution_count": 83,
   "id": "19679808",
   "metadata": {},
   "outputs": [
    {
     "data": {
      "text/html": [
       "<div>\n",
       "<style scoped>\n",
       "    .dataframe tbody tr th:only-of-type {\n",
       "        vertical-align: middle;\n",
       "    }\n",
       "\n",
       "    .dataframe tbody tr th {\n",
       "        vertical-align: top;\n",
       "    }\n",
       "\n",
       "    .dataframe thead th {\n",
       "        text-align: right;\n",
       "    }\n",
       "</style>\n",
       "<table border=\"1\" class=\"dataframe\">\n",
       "  <thead>\n",
       "    <tr style=\"text-align: right;\">\n",
       "      <th></th>\n",
       "      <th>sex</th>\n",
       "      <th>age</th>\n",
       "      <th>educational_status</th>\n",
       "      <th>partner_status</th>\n",
       "      <th>employment_status</th>\n",
       "      <th>weight</th>\n",
       "      <th>height</th>\n",
       "      <th>BMI</th>\n",
       "      <th>treatment</th>\n",
       "      <th>EMI</th>\n",
       "      <th>...</th>\n",
       "      <th>nitrate</th>\n",
       "      <th>diuretic</th>\n",
       "      <th>psychotropic</th>\n",
       "      <th>angiotensin2_receptor_blocker</th>\n",
       "      <th>week</th>\n",
       "      <th>steps</th>\n",
       "      <th>mvpa_mins</th>\n",
       "      <th>perception</th>\n",
       "      <th>steps_goal</th>\n",
       "      <th>mvpa_mins_goal</th>\n",
       "    </tr>\n",
       "  </thead>\n",
       "  <tbody>\n",
       "    <tr>\n",
       "      <th>count</th>\n",
       "      <td>566.000000</td>\n",
       "      <td>564.000000</td>\n",
       "      <td>561.000000</td>\n",
       "      <td>561.000000</td>\n",
       "      <td>561.000000</td>\n",
       "      <td>561.000000</td>\n",
       "      <td>561.000000</td>\n",
       "      <td>561.000000</td>\n",
       "      <td>561.000000</td>\n",
       "      <td>559.000000</td>\n",
       "      <td>...</td>\n",
       "      <td>561.000000</td>\n",
       "      <td>561.000000</td>\n",
       "      <td>561.000000</td>\n",
       "      <td>561.000000</td>\n",
       "      <td>561.000000</td>\n",
       "      <td>566.000000</td>\n",
       "      <td>566.000000</td>\n",
       "      <td>566.000000</td>\n",
       "      <td>531.000000</td>\n",
       "      <td>530.000000</td>\n",
       "    </tr>\n",
       "    <tr>\n",
       "      <th>mean</th>\n",
       "      <td>1.526502</td>\n",
       "      <td>48.753546</td>\n",
       "      <td>1.909091</td>\n",
       "      <td>0.520499</td>\n",
       "      <td>1.522282</td>\n",
       "      <td>77.306595</td>\n",
       "      <td>170.602496</td>\n",
       "      <td>26.537683</td>\n",
       "      <td>0.898396</td>\n",
       "      <td>0.157424</td>\n",
       "      <td>...</td>\n",
       "      <td>0.119430</td>\n",
       "      <td>0.160428</td>\n",
       "      <td>0.119430</td>\n",
       "      <td>0.155080</td>\n",
       "      <td>3.522282</td>\n",
       "      <td>42170.001767</td>\n",
       "      <td>1023.332155</td>\n",
       "      <td>5.328622</td>\n",
       "      <td>55226.549906</td>\n",
       "      <td>1260.035849</td>\n",
       "    </tr>\n",
       "    <tr>\n",
       "      <th>std</th>\n",
       "      <td>0.499739</td>\n",
       "      <td>14.723789</td>\n",
       "      <td>0.806628</td>\n",
       "      <td>0.500025</td>\n",
       "      <td>0.499949</td>\n",
       "      <td>15.792022</td>\n",
       "      <td>10.074398</td>\n",
       "      <td>4.984085</td>\n",
       "      <td>0.835815</td>\n",
       "      <td>0.364526</td>\n",
       "      <td>...</td>\n",
       "      <td>0.324583</td>\n",
       "      <td>0.367330</td>\n",
       "      <td>0.324583</td>\n",
       "      <td>0.362304</td>\n",
       "      <td>1.925381</td>\n",
       "      <td>22804.693283</td>\n",
       "      <td>624.349263</td>\n",
       "      <td>4.213101</td>\n",
       "      <td>30099.992532</td>\n",
       "      <td>773.527674</td>\n",
       "    </tr>\n",
       "    <tr>\n",
       "      <th>min</th>\n",
       "      <td>1.000000</td>\n",
       "      <td>25.000000</td>\n",
       "      <td>1.000000</td>\n",
       "      <td>0.000000</td>\n",
       "      <td>1.000000</td>\n",
       "      <td>46.000000</td>\n",
       "      <td>150.000000</td>\n",
       "      <td>17.170000</td>\n",
       "      <td>0.000000</td>\n",
       "      <td>0.000000</td>\n",
       "      <td>...</td>\n",
       "      <td>0.000000</td>\n",
       "      <td>0.000000</td>\n",
       "      <td>0.000000</td>\n",
       "      <td>0.000000</td>\n",
       "      <td>1.000000</td>\n",
       "      <td>2145.000000</td>\n",
       "      <td>5.000000</td>\n",
       "      <td>0.000000</td>\n",
       "      <td>3089.000000</td>\n",
       "      <td>6.000000</td>\n",
       "    </tr>\n",
       "    <tr>\n",
       "      <th>25%</th>\n",
       "      <td>1.000000</td>\n",
       "      <td>36.000000</td>\n",
       "      <td>1.000000</td>\n",
       "      <td>0.000000</td>\n",
       "      <td>1.000000</td>\n",
       "      <td>64.000000</td>\n",
       "      <td>164.000000</td>\n",
       "      <td>22.940000</td>\n",
       "      <td>0.000000</td>\n",
       "      <td>0.000000</td>\n",
       "      <td>...</td>\n",
       "      <td>0.000000</td>\n",
       "      <td>0.000000</td>\n",
       "      <td>0.000000</td>\n",
       "      <td>0.000000</td>\n",
       "      <td>2.000000</td>\n",
       "      <td>23264.000000</td>\n",
       "      <td>604.250000</td>\n",
       "      <td>2.000000</td>\n",
       "      <td>30682.500000</td>\n",
       "      <td>716.250000</td>\n",
       "    </tr>\n",
       "    <tr>\n",
       "      <th>50%</th>\n",
       "      <td>2.000000</td>\n",
       "      <td>47.000000</td>\n",
       "      <td>2.000000</td>\n",
       "      <td>1.000000</td>\n",
       "      <td>2.000000</td>\n",
       "      <td>78.000000</td>\n",
       "      <td>170.000000</td>\n",
       "      <td>26.300000</td>\n",
       "      <td>1.000000</td>\n",
       "      <td>0.000000</td>\n",
       "      <td>...</td>\n",
       "      <td>0.000000</td>\n",
       "      <td>0.000000</td>\n",
       "      <td>0.000000</td>\n",
       "      <td>0.000000</td>\n",
       "      <td>3.000000</td>\n",
       "      <td>42602.000000</td>\n",
       "      <td>961.000000</td>\n",
       "      <td>5.000000</td>\n",
       "      <td>54642.000000</td>\n",
       "      <td>1153.500000</td>\n",
       "    </tr>\n",
       "    <tr>\n",
       "      <th>75%</th>\n",
       "      <td>2.000000</td>\n",
       "      <td>62.000000</td>\n",
       "      <td>3.000000</td>\n",
       "      <td>1.000000</td>\n",
       "      <td>2.000000</td>\n",
       "      <td>90.000000</td>\n",
       "      <td>178.000000</td>\n",
       "      <td>29.970000</td>\n",
       "      <td>2.000000</td>\n",
       "      <td>0.000000</td>\n",
       "      <td>...</td>\n",
       "      <td>0.000000</td>\n",
       "      <td>0.000000</td>\n",
       "      <td>0.000000</td>\n",
       "      <td>0.000000</td>\n",
       "      <td>5.000000</td>\n",
       "      <td>58830.250000</td>\n",
       "      <td>1400.750000</td>\n",
       "      <td>8.000000</td>\n",
       "      <td>77647.500000</td>\n",
       "      <td>1743.750000</td>\n",
       "    </tr>\n",
       "    <tr>\n",
       "      <th>max</th>\n",
       "      <td>2.000000</td>\n",
       "      <td>75.000000</td>\n",
       "      <td>3.000000</td>\n",
       "      <td>1.000000</td>\n",
       "      <td>2.000000</td>\n",
       "      <td>106.000000</td>\n",
       "      <td>190.000000</td>\n",
       "      <td>38.540000</td>\n",
       "      <td>2.000000</td>\n",
       "      <td>1.000000</td>\n",
       "      <td>...</td>\n",
       "      <td>1.000000</td>\n",
       "      <td>1.000000</td>\n",
       "      <td>1.000000</td>\n",
       "      <td>1.000000</td>\n",
       "      <td>8.000000</td>\n",
       "      <td>102990.000000</td>\n",
       "      <td>2745.000000</td>\n",
       "      <td>20.000000</td>\n",
       "      <td>143791.000000</td>\n",
       "      <td>3617.000000</td>\n",
       "    </tr>\n",
       "  </tbody>\n",
       "</table>\n",
       "<p>8 rows × 36 columns</p>\n",
       "</div>"
      ],
      "text/plain": [
       "              sex         age  educational_status  partner_status  \\\n",
       "count  566.000000  564.000000          561.000000      561.000000   \n",
       "mean     1.526502   48.753546            1.909091        0.520499   \n",
       "std      0.499739   14.723789            0.806628        0.500025   \n",
       "min      1.000000   25.000000            1.000000        0.000000   \n",
       "25%      1.000000   36.000000            1.000000        0.000000   \n",
       "50%      2.000000   47.000000            2.000000        1.000000   \n",
       "75%      2.000000   62.000000            3.000000        1.000000   \n",
       "max      2.000000   75.000000            3.000000        1.000000   \n",
       "\n",
       "       employment_status      weight      height         BMI   treatment  \\\n",
       "count         561.000000  561.000000  561.000000  561.000000  561.000000   \n",
       "mean            1.522282   77.306595  170.602496   26.537683    0.898396   \n",
       "std             0.499949   15.792022   10.074398    4.984085    0.835815   \n",
       "min             1.000000   46.000000  150.000000   17.170000    0.000000   \n",
       "25%             1.000000   64.000000  164.000000   22.940000    0.000000   \n",
       "50%             2.000000   78.000000  170.000000   26.300000    1.000000   \n",
       "75%             2.000000   90.000000  178.000000   29.970000    2.000000   \n",
       "max             2.000000  106.000000  190.000000   38.540000    2.000000   \n",
       "\n",
       "              EMI  ...     nitrate    diuretic  psychotropic  \\\n",
       "count  559.000000  ...  561.000000  561.000000    561.000000   \n",
       "mean     0.157424  ...    0.119430    0.160428      0.119430   \n",
       "std      0.364526  ...    0.324583    0.367330      0.324583   \n",
       "min      0.000000  ...    0.000000    0.000000      0.000000   \n",
       "25%      0.000000  ...    0.000000    0.000000      0.000000   \n",
       "50%      0.000000  ...    0.000000    0.000000      0.000000   \n",
       "75%      0.000000  ...    0.000000    0.000000      0.000000   \n",
       "max      1.000000  ...    1.000000    1.000000      1.000000   \n",
       "\n",
       "       angiotensin2_receptor_blocker        week          steps    mvpa_mins  \\\n",
       "count                     561.000000  561.000000     566.000000   566.000000   \n",
       "mean                        0.155080    3.522282   42170.001767  1023.332155   \n",
       "std                         0.362304    1.925381   22804.693283   624.349263   \n",
       "min                         0.000000    1.000000    2145.000000     5.000000   \n",
       "25%                         0.000000    2.000000   23264.000000   604.250000   \n",
       "50%                         0.000000    3.000000   42602.000000   961.000000   \n",
       "75%                         0.000000    5.000000   58830.250000  1400.750000   \n",
       "max                         1.000000    8.000000  102990.000000  2745.000000   \n",
       "\n",
       "       perception     steps_goal  mvpa_mins_goal  \n",
       "count  566.000000     531.000000      530.000000  \n",
       "mean     5.328622   55226.549906     1260.035849  \n",
       "std      4.213101   30099.992532      773.527674  \n",
       "min      0.000000    3089.000000        6.000000  \n",
       "25%      2.000000   30682.500000      716.250000  \n",
       "50%      5.000000   54642.000000     1153.500000  \n",
       "75%      8.000000   77647.500000     1743.750000  \n",
       "max     20.000000  143791.000000     3617.000000  \n",
       "\n",
       "[8 rows x 36 columns]"
      ]
     },
     "execution_count": 83,
     "metadata": {},
     "output_type": "execute_result"
    }
   ],
   "source": [
    "df.describe()"
   ]
  },
  {
   "cell_type": "code",
   "execution_count": 84,
   "id": "7a3a47ad",
   "metadata": {},
   "outputs": [
    {
     "data": {
      "text/plain": [
       "Index(['sex', 'age', 'educational_status', 'partner_status',\n",
       "       'employment_status', 'weight', 'height', 'BMI', 'treatment', 'EMI',\n",
       "       'EAP', 'EPTCA', 'ECABG', 'ECVA_TIA', 'riskfactor_familyhistory',\n",
       "       'riskfactor_DM', 'riskfactor_hypertension', 'riskfactor_dyslipidemia',\n",
       "       'riskfactor_smoking', 'acetylsalicylic_acid',\n",
       "       'cholesterol_lowering_med', 'ACE_inhibitor', 'calcium_blocker',\n",
       "       'beta_blocker', 'thienopyridine', 'oral_anticoagulant', 'nitrate',\n",
       "       'diuretic', 'psychotropic', 'angiotensin2_receptor_blocker', 'week',\n",
       "       'steps', 'mvpa_mins', 'perception', 'steps_goal', 'mvpa_mins_goal'],\n",
       "      dtype='object')"
      ]
     },
     "execution_count": 84,
     "metadata": {},
     "output_type": "execute_result"
    }
   ],
   "source": [
    "df.columns"
   ]
  },
  {
   "cell_type": "markdown",
   "id": "923d780a",
   "metadata": {},
   "source": [
    "# clean data & missing values\n",
    "\t- Define numeric columns and categories\n",
    "\n",
    "\t- 1. Filling in missing numeric values ​​with the median\n",
    "\n",
    "\t- 2. Filling in missing values ​​in batches with fashion\n",
    "\n",
    "\t- 3. Filling complex columns with KNN"
   ]
  },
  {
   "cell_type": "code",
   "execution_count": 93,
   "id": "99c52cf7",
   "metadata": {},
   "outputs": [
    {
     "name": "stdout",
     "output_type": "stream",
     "text": [
      "the missing values in every columns sex                               0\n",
      "age                               0\n",
      "educational_status                0\n",
      "partner_status                    0\n",
      "employment_status                 0\n",
      "weight                            0\n",
      "height                            0\n",
      "BMI                               0\n",
      "treatment                         0\n",
      "EMI                               7\n",
      "EAP                               7\n",
      "EPTCA                             7\n",
      "ECABG                             7\n",
      "ECVA_TIA                          7\n",
      "riskfactor_familyhistory          0\n",
      "riskfactor_DM                     0\n",
      "riskfactor_hypertension           0\n",
      "riskfactor_dyslipidemia           0\n",
      "riskfactor_smoking                0\n",
      "acetylsalicylic_acid              0\n",
      "cholesterol_lowering_med          0\n",
      "ACE_inhibitor                     0\n",
      "calcium_blocker                   0\n",
      "beta_blocker                      0\n",
      "thienopyridine                    0\n",
      "oral_anticoagulant                5\n",
      "nitrate                           0\n",
      "diuretic                          0\n",
      "psychotropic                      0\n",
      "angiotensin2_receptor_blocker     0\n",
      "week                              5\n",
      "steps                             0\n",
      "mvpa_mins                         0\n",
      "perception                        0\n",
      "steps_goal                       35\n",
      "mvpa_mins_goal                   36\n",
      "dtype: int64\n"
     ]
    }
   ],
   "source": [
    "missing_values = df.isnull().sum()\n",
    "print(f\"the missing values in every columns {missing_values}\")"
   ]
  },
  {
   "cell_type": "code",
   "execution_count": 94,
   "id": "7f6a3196",
   "metadata": {},
   "outputs": [
    {
     "name": "stdout",
     "output_type": "stream",
     "text": [
      "percentage missing for every columns sex                              0.000000\n",
      "age                              0.000000\n",
      "educational_status               0.000000\n",
      "partner_status                   0.000000\n",
      "employment_status                0.000000\n",
      "weight                           0.000000\n",
      "height                           0.000000\n",
      "BMI                              0.000000\n",
      "treatment                        0.000000\n",
      "EMI                              1.236749\n",
      "EAP                              1.236749\n",
      "EPTCA                            1.236749\n",
      "ECABG                            1.236749\n",
      "ECVA_TIA                         1.236749\n",
      "riskfactor_familyhistory         0.000000\n",
      "riskfactor_DM                    0.000000\n",
      "riskfactor_hypertension          0.000000\n",
      "riskfactor_dyslipidemia          0.000000\n",
      "riskfactor_smoking               0.000000\n",
      "acetylsalicylic_acid             0.000000\n",
      "cholesterol_lowering_med         0.000000\n",
      "ACE_inhibitor                    0.000000\n",
      "calcium_blocker                  0.000000\n",
      "beta_blocker                     0.000000\n",
      "thienopyridine                   0.000000\n",
      "oral_anticoagulant               0.883392\n",
      "nitrate                          0.000000\n",
      "diuretic                         0.000000\n",
      "psychotropic                     0.000000\n",
      "angiotensin2_receptor_blocker    0.000000\n",
      "week                             0.883392\n",
      "steps                            0.000000\n",
      "mvpa_mins                        0.000000\n",
      "perception                       0.000000\n",
      "steps_goal                       6.183746\n",
      "mvpa_mins_goal                   6.360424\n",
      "dtype: float64\n"
     ]
    }
   ],
   "source": [
    "missing_percent = (df.isnull().sum() / len(df)) * 100\n",
    "print(f\"percentage missing for every columns {missing_percent}\")\n",
    "# if the percentage less than the .5 we can del that this is a optional"
   ]
  },
  {
   "cell_type": "markdown",
   "id": "95050ab1",
   "metadata": {},
   "source": [
    "# Define numeric columns and categories"
   ]
  },
  {
   "cell_type": "code",
   "execution_count": 95,
   "id": "8cbd90fd",
   "metadata": {},
   "outputs": [],
   "source": [
    "numeric_columns = ['age', 'weight', 'height', 'BMI', 'steps', 'mvpa_mins']\n",
    "categorical_columns = ['educational_status', 'partner_status', 'employment_status', \n",
    "                      'treatment', 'riskfactor_familyhistory', 'riskfactor_DM', \n",
    "                      'riskfactor_hypertension', 'riskfactor_dyslipidemia', \n",
    "                      'riskfactor_smoking', 'acetylsalicylic_acid', \n",
    "                      'cholesterol_lowering_med', 'ACE_inhibitor', \n",
    "                      'calcium_blocker', 'beta_blocker', 'thienopyridine', \n",
    "                      'nitrate', 'diuretic', 'psychotropic', \n",
    "                      'angiotensin2_receptor_blocker']"
   ]
  },
  {
   "cell_type": "markdown",
   "id": "1c1852fe",
   "metadata": {},
   "source": [
    "# 1:"
   ]
  },
  {
   "cell_type": "code",
   "execution_count": 96,
   "id": "84d5cbed",
   "metadata": {},
   "outputs": [],
   "source": [
    "for col in numeric_columns:\n",
    "    df[col] = df[col].fillna(df[col].median())"
   ]
  },
  {
   "cell_type": "markdown",
   "id": "594319d0",
   "metadata": {},
   "source": [
    "# 2:"
   ]
  },
  {
   "cell_type": "code",
   "execution_count": 97,
   "id": "3ceced67",
   "metadata": {},
   "outputs": [],
   "source": [
    "for col in categorical_columns:\n",
    "    df[col] = df[col].fillna(df[col].mode()[0])"
   ]
  },
  {
   "cell_type": "markdown",
   "id": "d6935acf",
   "metadata": {},
   "source": [
    "# 3: Filling steps_goal and mvpa_mins_goal with KNN"
   ]
  },
  {
   "cell_type": "code",
   "execution_count": 99,
   "id": "1f85ce38",
   "metadata": {},
   "outputs": [],
   "source": [
    "imputer = KNNImputer(n_neighbors=5)\n",
    "df[['steps_goal', 'mvpa_mins_goal', 'EMI', 'EAP', 'EPTCA', 'ECABG', 'ECVA_TIA']] = pd.DataFrame(\n",
    "    imputer.fit_transform(df[['steps_goal', 'mvpa_mins_goal', 'EMI', 'EAP', 'EPTCA', 'ECABG', 'ECVA_TIA']]),\n",
    "    columns=['steps_goal', 'mvpa_mins_goal', 'EMI', 'EAP', 'EPTCA', 'ECABG', 'ECVA_TIA']\n",
    ")"
   ]
  },
  {
   "cell_type": "code",
   "execution_count": 119,
   "id": "89adb583",
   "metadata": {},
   "outputs": [
    {
     "name": "stderr",
     "output_type": "stream",
     "text": [
      "2025-06-05 09:10:20,918 - INFO - fill out the nan data OK!\n"
     ]
    },
    {
     "name": "stdout",
     "output_type": "stream",
     "text": [
      "This is a result of data sex                   0\n",
      "age                   0\n",
      "educational_status    0\n",
      "partner_status        0\n",
      "employment_status     0\n",
      "weight                0\n",
      "height                0\n",
      "BMI                   0\n",
      "treatment             0\n",
      "EMI                   0\n",
      "EAP                   0\n",
      "dtype: int64\n"
     ]
    }
   ],
   "source": [
    "result = df.isnull().sum()[:11]\n",
    "print(f\"This is a result of data {result}\")\n",
    "logger.info(\"fill out the nan data OK!\")"
   ]
  },
  {
   "cell_type": "code",
   "execution_count": 114,
   "id": "cabf0df1",
   "metadata": {},
   "outputs": [
    {
     "name": "stderr",
     "output_type": "stream",
     "text": [
      "2025-06-05 09:09:12,603 - INFO - convert the csv file clean data\n"
     ]
    }
   ],
   "source": [
    "df.to_csv('../data/dataset_cleaned.csv', index=False)\n",
    "logger.info(\"convert the csv file clean data\")"
   ]
  },
  {
   "cell_type": "code",
   "execution_count": 115,
   "id": "2957ed3f",
   "metadata": {},
   "outputs": [
    {
     "name": "stderr",
     "output_type": "stream",
     "text": [
      "2025-06-05 09:09:13,916 - INFO - read csv file clen data\n"
     ]
    }
   ],
   "source": [
    "df_clean = pd.read_csv('../data/dataset_cleaned.csv')\n",
    "logger.info(\"read csv file clen data\")"
   ]
  },
  {
   "cell_type": "code",
   "execution_count": 118,
   "id": "15647d26",
   "metadata": {},
   "outputs": [
    {
     "name": "stderr",
     "output_type": "stream",
     "text": [
      "2025-06-05 09:10:10,521 - INFO - see and check data set\n"
     ]
    }
   ],
   "source": [
    "df_clean.isnull().sum()[:11]\n",
    "logger.info('see and check data set')"
   ]
  },
  {
   "cell_type": "markdown",
   "id": "ebe6177c",
   "metadata": {},
   "source": [
    "## Outliers manager"
   ]
  },
  {
   "cell_type": "code",
   "execution_count": 127,
   "id": "c8158065",
   "metadata": {},
   "outputs": [],
   "source": [
    "for col in numeric_columns + ['steps_goal', 'mvpa_mins_goal']:\n",
    "    Q1 = df_clean[col].quantile(0.25)\n",
    "    Q3 = df_clean[col].quantile(0.75)\n",
    "    IQR = Q3 - Q1\n",
    "    lower_bound = Q1 - 1.5 * IQR\n",
    "    upper_bound = Q3 + 1.5 * IQR\n",
    "    df_clean[col] = df_clean[col].clip(lower=lower_bound, upper=upper_bound)"
   ]
  },
  {
   "cell_type": "markdown",
   "id": "c6090757",
   "metadata": {},
   "source": [
    "# Meaning of Variance:\n",
    "\n",
    "\tAge: A variance of 216 means a standard deviation of approximately √216 ≈ 14.7 years, which is reasonable for a medical dataset (e.g., individuals aged 20 to 60).\n",
    "\tWeight: A variance of 247 means a standard deviation of ≈15.7 kg, indicating that the weight of individuals in the dataset is quite varied.\n",
    "\tHeight: A variance of 100 means a standard deviation of ≈10 cm, which is reasonable for height.\n",
    "\tBMI: A variance of 24.6 means a standard deviation of ≈5, which, for BMI (typically ranging from 15 to 40), indicates moderate variability.\n",
    "\tSteps and steps_goal: Very high variances (520 million and 868 million) show that the number of steps varies greatly among individuals, which is typical in physical activity data (e.g., one person might take 10,000 steps, another 100,000).\n",
    "\tmvpa_mins and mvpa_mins_goal: Similarly, high variances (387,000 and 568,000) indicate significant variation in minutes of physical activity."
   ]
  },
  {
   "cell_type": "code",
   "execution_count": 131,
   "id": "2d935e8d",
   "metadata": {},
   "outputs": [
    {
     "name": "stdout",
     "output_type": "stream",
     "text": [
      "show the var age               2.160334e+02\n",
      "weight            2.471852e+02\n",
      "height            1.005985e+02\n",
      "BMI               2.462177e+01\n",
      "steps             5.200540e+08\n",
      "mvpa_mins         3.873963e+05\n",
      "steps_goal        8.680707e+08\n",
      "mvpa_mins_goal    5.682327e+05\n",
      "dtype: float64\n"
     ]
    }
   ],
   "source": [
    "variances = df_clean[numeric_columns + ['steps_goal', 'mvpa_mins_goal']].var()\n",
    "print(f\"show the var {variances}\")"
   ]
  },
  {
   "cell_type": "code",
   "execution_count": 132,
   "id": "55ba76e7",
   "metadata": {},
   "outputs": [
    {
     "data": {
      "image/png": "[encoded data removed]",
      "text/plain": [
       "<Figure size 640x480 with 1 Axes>"
      ]
     },
     "metadata": {},
     "output_type": "display_data"
    },
    {
     "data": {
      "image/png": "[encoded data removed]",
      "text/plain": [
       "<Figure size 640x480 with 1 Axes>"
      ]
     },
     "metadata": {},
     "output_type": "display_data"
    }
   ],
   "source": [
    "import seaborn as sns\n",
    "import matplotlib.pyplot as plt\n",
    "\n",
    "# Boxplot   \n",
    "sns.boxplot(data=df_clean[['BMI', 'weight', 'height', 'steps', 'mvpa_mins']])\n",
    "plt.title('Boxplot of Numeric Columns After Cleaning')\n",
    "plt.show()\n",
    "\n",
    "# BMI\n",
    "sns.histplot(df_clean['BMI'], bins=30)\n",
    "plt.title('Histogram of BMI After Cleaning')\n",
    "plt.show()"
   ]
  },
  {
   "cell_type": "code",
   "execution_count": 134,
   "id": "e99d73f2",
   "metadata": {},
   "outputs": [
    {
     "name": "stderr",
     "output_type": "stream",
     "text": [
      "2025-06-05 09:29:57,432 - INFO - Kept 36 columns with non-zero variance\n"
     ]
    },
    {
     "name": "stderr",
     "output_type": "stream",
     "text": [
      "2025-06-05 09:30:00,270 - INFO - Saved correlation matrix\n"
     ]
    },
    {
     "data": {
      "image/png": "[encoded data removed]",
      "text/plain": [
       "<Figure size 1000x800 with 2 Axes>"
      ]
     },
     "metadata": {},
     "output_type": "display_data"
    }
   ],
   "source": [
    "def analyze_correlations(df, target_columns=['steps_goal', 'mvpa_mins_goal']):\n",
    "    import seaborn as sns\n",
    "    import matplotlib.pyplot as plt\n",
    "    import logging\n",
    "\n",
    "    logger = logging.getLogger()\n",
    "    variance = df.var(numeric_only=True)\n",
    "    non_zero_variance_cols = variance[variance > 0].index\n",
    "    df = df[non_zero_variance_cols]\n",
    "    logger.info(f\"Kept {len(non_zero_variance_cols)} columns with non-zero variance\")\n",
    "\n",
    "    correlation_matrix = df.corr()\n",
    "    top_features = []\n",
    "    for target in target_columns:\n",
    "        corr = correlation_matrix[target].abs().sort_values(ascending=False)[1:6]\n",
    "        top_features.extend(corr.index)\n",
    "    top_features = list(pd.Series(top_features).unique())[:10]\n",
    "    selected_columns = top_features + target_columns\n",
    "    corr_subset = correlation_matrix.loc[selected_columns, selected_columns]\n",
    "\n",
    "    plt.figure(figsize=(10, 8))\n",
    "    sns.heatmap(corr_subset, annot=True, cmap='coolwarm', vmin=-1, vmax=1, center=0)\n",
    "    plt.title('Correlation Matrix')\n",
    "    plt.savefig('correlation_matrix.png')\n",
    "    logger.info(\"Saved correlation matrix\")\n",
    "    plt.show()\n",
    "\n",
    "    return df, top_features\n",
    "\n",
    "data_clean, top_features = analyze_correlations(df_clean)"
   ]
  },
  {
   "cell_type": "code",
   "execution_count": null,
   "id": "05bf5077",
   "metadata": {},
   "outputs": [],
   "source": []
  }
 ],
 "metadata": {
  "kernelspec": {
   "display_name": "env",
   "language": "python",
   "name": "python3"
  },
  "language_info": {
   "codemirror_mode": {
    "name": "ipython",
    "version": 3
   },
   "file_extension": ".py",
   "mimetype": "text/x-python",
   "name": "python",
   "nbconvert_exporter": "python",
   "pygments_lexer": "ipython3",
   "version": "3.12.3"
  }
 },
 "nbformat": 4,
 "nbformat_minor": 5
}
