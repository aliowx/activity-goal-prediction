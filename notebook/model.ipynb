{
 "cells": [
  {
   "cell_type": "markdown",
   "id": "b80059f6",
   "metadata": {},
   "source": [
    "<table align=\"left\">\n",
    "  <td>\n",
    "    <a href=\"https://colab.research.google.com/github/ageron/handson-ml3/blob/main/02_end_to_end_machine_learning_project.ipynb\" target=\"_parent\"><img src=\"https://colab.research.google.com/assets/colab-badge.svg\" alt=\"Open In Colab\"/></a>\n",
    "  </td>\n",
    "  <td>\n",
    "    <a target=\"_blank\" href=\"https://kaggle.com/kernels/welcome?src=https://github.com/ageron/handson-ml3/blob/main/02_end_to_end_machine_learning_project.ipynb\"><img src=\"https://kaggle.com/static/images/open-in-kaggle.svg\" /></a>\n",
    "  </td>\n",
    "</table>"
   ]
  },
  {
   "cell_type": "markdown",
   "id": "8f2372cc",
   "metadata": {},
   "source": [
    "# Import the packege"
   ]
  },
  {
   "cell_type": "code",
   "execution_count": 129,
   "id": "8ccc4893",
   "metadata": {},
   "outputs": [],
   "source": [
    "import shap\n",
    "import time\n",
    "import logging\n",
    "import warnings\n",
    "import random\n",
    "import pandas as pd\n",
    "import numpy as np\n",
    "import matplotlib.pyplot as plt\n",
    "import seaborn as sns\n",
    "from sklearn.model_selection import train_test_split, cross_validate, RepeatedKFold, GridSearchCV, RandomizedSearchCV\n",
    "from sklearn.pipeline import Pipeline\n",
    "from sklearn.preprocessing import StandardScaler, PolynomialFeatures\n",
    "from sklearn.experimental import enable_iterative_imputer\n",
    "from sklearn.impute import IterativeImputer\n",
    "from sklearn.linear_model import LinearRegression, Ridge, Lasso, ElasticNet\n",
    "from sklearn.ensemble import RandomForestRegressor, ExtraTreesRegressor, GradientBoostingRegressor, StackingRegressor\n",
    "from sklearn.neighbors import KNeighborsRegressor\n",
    "from sklearn.neural_network import MLPRegressor\n",
    "from sklearn.metrics import mean_absolute_error, mean_squared_error, r2_score, median_absolute_error\n",
    "from sklearn.feature_selection import SelectKBest, f_regression\n",
    "from sklearn.decomposition import PCA\n",
    "from xgboost import XGBRegressor\n",
    "from sklearn.impute import SimpleImputer\n",
    "from sklearn.base import BaseEstimator, TransformerMixin\n",
    "from sklearn.multioutput import MultiOutputRegressor\n",
    "from scipy.stats import wilcoxon, bootstrap\n",
    "from sklearn.compose import ColumnTransformer\n",
    "from sklearn.impute import KNNImputer\n",
    "from scipy.stats import wilcoxon, bootstrap, uniform, randint\n",
    "\n",
    "\n",
    "warnings.filterwarnings('ignore')"
   ]
  },
  {
   "cell_type": "markdown",
   "id": "f84cd3be",
   "metadata": {},
   "source": [
    "## logging fit"
   ]
  },
  {
   "cell_type": "code",
   "execution_count": 130,
   "id": "a190216d",
   "metadata": {},
   "outputs": [],
   "source": [
    "logging.basicConfig(level=logging.INFO, format='%(asctime)s - %(levelname)s - %(message)s')\n",
    "logger = logging.getLogger(__name__)"
   ]
  },
  {
   "cell_type": "markdown",
   "id": "2e0721b0",
   "metadata": {},
   "source": [
    "## seed"
   ]
  },
  {
   "cell_type": "code",
   "execution_count": 131,
   "id": "56fbdd2c",
   "metadata": {},
   "outputs": [],
   "source": [
    "SEED = 42  \n",
    "np.random.seed(SEED)"
   ]
  },
  {
   "cell_type": "markdown",
   "id": "0fd0e32a",
   "metadata": {},
   "source": [
    "# read data set"
   ]
  },
  {
   "cell_type": "code",
   "execution_count": 132,
   "id": "b316386e",
   "metadata": {},
   "outputs": [
    {
     "name": "stderr",
     "output_type": "stream",
     "text": [
      "2025-06-06 16:45:58,173 - INFO - change the xlsx form csv file done! \n",
      "2025-06-06 16:45:58,385 - INFO - read the csv file\n",
      "2025-06-06 16:45:58,412 - INFO - copy data set done!\n"
     ]
    }
   ],
   "source": [
    "df_xlsx = pd.read_excel('../data/DummyData.xlsx')\n",
    "\n",
    "df_xlsx.to_csv('../data/DummyData.csv', index=False)\n",
    "logger.info(\"change the xlsx form csv file done! \")\n",
    "df = pd.read_csv('../data/DummyData.csv')\n",
    "df.shape\n",
    "logger.info('read the csv file')\n",
    "df_original = df.copy()\n",
    "logger.info(\"copy data set done!\")"
   ]
  },
  {
   "cell_type": "code",
   "execution_count": 133,
   "id": "46c309d4",
   "metadata": {},
   "outputs": [
    {
     "data": {
      "text/html": [
       "<div>\n",
       "<style scoped>\n",
       "    .dataframe tbody tr th:only-of-type {\n",
       "        vertical-align: middle;\n",
       "    }\n",
       "\n",
       "    .dataframe tbody tr th {\n",
       "        vertical-align: top;\n",
       "    }\n",
       "\n",
       "    .dataframe thead th {\n",
       "        text-align: right;\n",
       "    }\n",
       "</style>\n",
       "<table border=\"1\" class=\"dataframe\">\n",
       "  <thead>\n",
       "    <tr style=\"text-align: right;\">\n",
       "      <th></th>\n",
       "      <th>sex</th>\n",
       "      <th>age</th>\n",
       "      <th>educational_status</th>\n",
       "      <th>partner_status</th>\n",
       "      <th>employment_status</th>\n",
       "      <th>weight</th>\n",
       "      <th>height</th>\n",
       "      <th>BMI</th>\n",
       "      <th>treatment</th>\n",
       "      <th>EMI</th>\n",
       "      <th>...</th>\n",
       "      <th>nitrate</th>\n",
       "      <th>diuretic</th>\n",
       "      <th>psychotropic</th>\n",
       "      <th>angiotensin2_receptor_blocker</th>\n",
       "      <th>week</th>\n",
       "      <th>steps</th>\n",
       "      <th>mvpa_mins</th>\n",
       "      <th>perception</th>\n",
       "      <th>steps_goal</th>\n",
       "      <th>mvpa_mins_goal</th>\n",
       "    </tr>\n",
       "  </thead>\n",
       "  <tbody>\n",
       "    <tr>\n",
       "      <th>0</th>\n",
       "      <td>2</td>\n",
       "      <td>34.0</td>\n",
       "      <td>3.0</td>\n",
       "      <td>0.0</td>\n",
       "      <td>2.0</td>\n",
       "      <td>48.0</td>\n",
       "      <td>164.0</td>\n",
       "      <td>17.85</td>\n",
       "      <td>0.0</td>\n",
       "      <td>0.0</td>\n",
       "      <td>...</td>\n",
       "      <td>0.0</td>\n",
       "      <td>0.0</td>\n",
       "      <td>0.0</td>\n",
       "      <td>0.0</td>\n",
       "      <td>1.0</td>\n",
       "      <td>72765</td>\n",
       "      <td>2105</td>\n",
       "      <td>16</td>\n",
       "      <td>95047.0</td>\n",
       "      <td>2509.0</td>\n",
       "    </tr>\n",
       "    <tr>\n",
       "      <th>1</th>\n",
       "      <td>2</td>\n",
       "      <td>34.0</td>\n",
       "      <td>3.0</td>\n",
       "      <td>0.0</td>\n",
       "      <td>2.0</td>\n",
       "      <td>48.0</td>\n",
       "      <td>164.0</td>\n",
       "      <td>17.85</td>\n",
       "      <td>0.0</td>\n",
       "      <td>0.0</td>\n",
       "      <td>...</td>\n",
       "      <td>0.0</td>\n",
       "      <td>0.0</td>\n",
       "      <td>0.0</td>\n",
       "      <td>0.0</td>\n",
       "      <td>2.0</td>\n",
       "      <td>53817</td>\n",
       "      <td>1557</td>\n",
       "      <td>2</td>\n",
       "      <td>74490.0</td>\n",
       "      <td>2063.0</td>\n",
       "    </tr>\n",
       "    <tr>\n",
       "      <th>2</th>\n",
       "      <td>2</td>\n",
       "      <td>34.0</td>\n",
       "      <td>3.0</td>\n",
       "      <td>0.0</td>\n",
       "      <td>2.0</td>\n",
       "      <td>48.0</td>\n",
       "      <td>164.0</td>\n",
       "      <td>17.85</td>\n",
       "      <td>0.0</td>\n",
       "      <td>0.0</td>\n",
       "      <td>...</td>\n",
       "      <td>0.0</td>\n",
       "      <td>0.0</td>\n",
       "      <td>0.0</td>\n",
       "      <td>0.0</td>\n",
       "      <td>3.0</td>\n",
       "      <td>58911</td>\n",
       "      <td>1704</td>\n",
       "      <td>4</td>\n",
       "      <td>70379.0</td>\n",
       "      <td>2163.0</td>\n",
       "    </tr>\n",
       "    <tr>\n",
       "      <th>3</th>\n",
       "      <td>2</td>\n",
       "      <td>34.0</td>\n",
       "      <td>3.0</td>\n",
       "      <td>0.0</td>\n",
       "      <td>2.0</td>\n",
       "      <td>48.0</td>\n",
       "      <td>164.0</td>\n",
       "      <td>17.85</td>\n",
       "      <td>0.0</td>\n",
       "      <td>0.0</td>\n",
       "      <td>...</td>\n",
       "      <td>0.0</td>\n",
       "      <td>0.0</td>\n",
       "      <td>0.0</td>\n",
       "      <td>0.0</td>\n",
       "      <td>4.0</td>\n",
       "      <td>85157</td>\n",
       "      <td>2463</td>\n",
       "      <td>8</td>\n",
       "      <td>125754.0</td>\n",
       "      <td>3164.0</td>\n",
       "    </tr>\n",
       "    <tr>\n",
       "      <th>4</th>\n",
       "      <td>2</td>\n",
       "      <td>34.0</td>\n",
       "      <td>3.0</td>\n",
       "      <td>0.0</td>\n",
       "      <td>2.0</td>\n",
       "      <td>48.0</td>\n",
       "      <td>164.0</td>\n",
       "      <td>17.85</td>\n",
       "      <td>0.0</td>\n",
       "      <td>0.0</td>\n",
       "      <td>...</td>\n",
       "      <td>0.0</td>\n",
       "      <td>0.0</td>\n",
       "      <td>0.0</td>\n",
       "      <td>0.0</td>\n",
       "      <td>5.0</td>\n",
       "      <td>51341</td>\n",
       "      <td>1485</td>\n",
       "      <td>12</td>\n",
       "      <td>68819.0</td>\n",
       "      <td>1886.0</td>\n",
       "    </tr>\n",
       "  </tbody>\n",
       "</table>\n",
       "<p>5 rows × 36 columns</p>\n",
       "</div>"
      ],
      "text/plain": [
       "   sex   age  educational_status  partner_status  employment_status  weight  \\\n",
       "0    2  34.0                 3.0             0.0                2.0    48.0   \n",
       "1    2  34.0                 3.0             0.0                2.0    48.0   \n",
       "2    2  34.0                 3.0             0.0                2.0    48.0   \n",
       "3    2  34.0                 3.0             0.0                2.0    48.0   \n",
       "4    2  34.0                 3.0             0.0                2.0    48.0   \n",
       "\n",
       "   height    BMI  treatment  EMI  ...  nitrate  diuretic  psychotropic  \\\n",
       "0   164.0  17.85        0.0  0.0  ...      0.0       0.0           0.0   \n",
       "1   164.0  17.85        0.0  0.0  ...      0.0       0.0           0.0   \n",
       "2   164.0  17.85        0.0  0.0  ...      0.0       0.0           0.0   \n",
       "3   164.0  17.85        0.0  0.0  ...      0.0       0.0           0.0   \n",
       "4   164.0  17.85        0.0  0.0  ...      0.0       0.0           0.0   \n",
       "\n",
       "   angiotensin2_receptor_blocker  week  steps  mvpa_mins  perception  \\\n",
       "0                            0.0   1.0  72765       2105          16   \n",
       "1                            0.0   2.0  53817       1557           2   \n",
       "2                            0.0   3.0  58911       1704           4   \n",
       "3                            0.0   4.0  85157       2463           8   \n",
       "4                            0.0   5.0  51341       1485          12   \n",
       "\n",
       "   steps_goal  mvpa_mins_goal  \n",
       "0     95047.0          2509.0  \n",
       "1     74490.0          2063.0  \n",
       "2     70379.0          2163.0  \n",
       "3    125754.0          3164.0  \n",
       "4     68819.0          1886.0  \n",
       "\n",
       "[5 rows x 36 columns]"
      ]
     },
     "execution_count": 133,
     "metadata": {},
     "output_type": "execute_result"
    }
   ],
   "source": [
    "df.head()"
   ]
  },
  {
   "cell_type": "code",
   "execution_count": 134,
   "id": "13a1da66",
   "metadata": {},
   "outputs": [
    {
     "name": "stdout",
     "output_type": "stream",
     "text": [
      "<class 'pandas.core.frame.DataFrame'>\n",
      "RangeIndex: 566 entries, 0 to 565\n",
      "Data columns (total 36 columns):\n",
      " #   Column                         Non-Null Count  Dtype  \n",
      "---  ------                         --------------  -----  \n",
      " 0   sex                            566 non-null    int64  \n",
      " 1   age                            564 non-null    float64\n",
      " 2   educational_status             561 non-null    float64\n",
      " 3   partner_status                 561 non-null    float64\n",
      " 4   employment_status              561 non-null    float64\n",
      " 5   weight                         561 non-null    float64\n",
      " 6   height                         561 non-null    float64\n",
      " 7   BMI                            561 non-null    float64\n",
      " 8   treatment                      561 non-null    float64\n",
      " 9   EMI                            559 non-null    float64\n",
      " 10  EAP                            559 non-null    float64\n",
      " 11  EPTCA                          559 non-null    float64\n",
      " 12  ECABG                          559 non-null    float64\n",
      " 13  ECVA_TIA                       559 non-null    float64\n",
      " 14  riskfactor_familyhistory       559 non-null    float64\n",
      " 15  riskfactor_DM                  559 non-null    float64\n",
      " 16  riskfactor_hypertension        561 non-null    float64\n",
      " 17  riskfactor_dyslipidemia        561 non-null    float64\n",
      " 18  riskfactor_smoking             561 non-null    float64\n",
      " 19  acetylsalicylic_acid           561 non-null    float64\n",
      " 20  cholesterol_lowering_med       561 non-null    float64\n",
      " 21  ACE_inhibitor                  561 non-null    float64\n",
      " 22  calcium_blocker                561 non-null    float64\n",
      " 23  beta_blocker                   561 non-null    float64\n",
      " 24  thienopyridine                 561 non-null    float64\n",
      " 25  oral_anticoagulant             561 non-null    float64\n",
      " 26  nitrate                        561 non-null    float64\n",
      " 27  diuretic                       561 non-null    float64\n",
      " 28  psychotropic                   561 non-null    float64\n",
      " 29  angiotensin2_receptor_blocker  561 non-null    float64\n",
      " 30  week                           561 non-null    float64\n",
      " 31  steps                          566 non-null    int64  \n",
      " 32  mvpa_mins                      566 non-null    int64  \n",
      " 33  perception                     566 non-null    int64  \n",
      " 34  steps_goal                     531 non-null    float64\n",
      " 35  mvpa_mins_goal                 530 non-null    float64\n",
      "dtypes: float64(32), int64(4)\n",
      "memory usage: 159.3 KB\n"
     ]
    }
   ],
   "source": [
    "df.info()"
   ]
  },
  {
   "cell_type": "code",
   "execution_count": 135,
   "id": "19679808",
   "metadata": {},
   "outputs": [
    {
     "data": {
      "text/html": [
       "<div>\n",
       "<style scoped>\n",
       "    .dataframe tbody tr th:only-of-type {\n",
       "        vertical-align: middle;\n",
       "    }\n",
       "\n",
       "    .dataframe tbody tr th {\n",
       "        vertical-align: top;\n",
       "    }\n",
       "\n",
       "    .dataframe thead th {\n",
       "        text-align: right;\n",
       "    }\n",
       "</style>\n",
       "<table border=\"1\" class=\"dataframe\">\n",
       "  <thead>\n",
       "    <tr style=\"text-align: right;\">\n",
       "      <th></th>\n",
       "      <th>sex</th>\n",
       "      <th>age</th>\n",
       "      <th>educational_status</th>\n",
       "      <th>partner_status</th>\n",
       "      <th>employment_status</th>\n",
       "      <th>weight</th>\n",
       "      <th>height</th>\n",
       "      <th>BMI</th>\n",
       "      <th>treatment</th>\n",
       "      <th>EMI</th>\n",
       "      <th>...</th>\n",
       "      <th>nitrate</th>\n",
       "      <th>diuretic</th>\n",
       "      <th>psychotropic</th>\n",
       "      <th>angiotensin2_receptor_blocker</th>\n",
       "      <th>week</th>\n",
       "      <th>steps</th>\n",
       "      <th>mvpa_mins</th>\n",
       "      <th>perception</th>\n",
       "      <th>steps_goal</th>\n",
       "      <th>mvpa_mins_goal</th>\n",
       "    </tr>\n",
       "  </thead>\n",
       "  <tbody>\n",
       "    <tr>\n",
       "      <th>count</th>\n",
       "      <td>566.000000</td>\n",
       "      <td>564.000000</td>\n",
       "      <td>561.000000</td>\n",
       "      <td>561.000000</td>\n",
       "      <td>561.000000</td>\n",
       "      <td>561.000000</td>\n",
       "      <td>561.000000</td>\n",
       "      <td>561.000000</td>\n",
       "      <td>561.000000</td>\n",
       "      <td>559.000000</td>\n",
       "      <td>...</td>\n",
       "      <td>561.000000</td>\n",
       "      <td>561.000000</td>\n",
       "      <td>561.000000</td>\n",
       "      <td>561.000000</td>\n",
       "      <td>561.000000</td>\n",
       "      <td>566.000000</td>\n",
       "      <td>566.000000</td>\n",
       "      <td>566.000000</td>\n",
       "      <td>531.000000</td>\n",
       "      <td>530.000000</td>\n",
       "    </tr>\n",
       "    <tr>\n",
       "      <th>mean</th>\n",
       "      <td>1.526502</td>\n",
       "      <td>48.753546</td>\n",
       "      <td>1.909091</td>\n",
       "      <td>0.520499</td>\n",
       "      <td>1.522282</td>\n",
       "      <td>77.306595</td>\n",
       "      <td>170.602496</td>\n",
       "      <td>26.537683</td>\n",
       "      <td>0.898396</td>\n",
       "      <td>0.157424</td>\n",
       "      <td>...</td>\n",
       "      <td>0.119430</td>\n",
       "      <td>0.160428</td>\n",
       "      <td>0.119430</td>\n",
       "      <td>0.155080</td>\n",
       "      <td>3.522282</td>\n",
       "      <td>42170.001767</td>\n",
       "      <td>1023.332155</td>\n",
       "      <td>5.328622</td>\n",
       "      <td>55226.549906</td>\n",
       "      <td>1260.035849</td>\n",
       "    </tr>\n",
       "    <tr>\n",
       "      <th>std</th>\n",
       "      <td>0.499739</td>\n",
       "      <td>14.723789</td>\n",
       "      <td>0.806628</td>\n",
       "      <td>0.500025</td>\n",
       "      <td>0.499949</td>\n",
       "      <td>15.792022</td>\n",
       "      <td>10.074398</td>\n",
       "      <td>4.984085</td>\n",
       "      <td>0.835815</td>\n",
       "      <td>0.364526</td>\n",
       "      <td>...</td>\n",
       "      <td>0.324583</td>\n",
       "      <td>0.367330</td>\n",
       "      <td>0.324583</td>\n",
       "      <td>0.362304</td>\n",
       "      <td>1.925381</td>\n",
       "      <td>22804.693283</td>\n",
       "      <td>624.349263</td>\n",
       "      <td>4.213101</td>\n",
       "      <td>30099.992532</td>\n",
       "      <td>773.527674</td>\n",
       "    </tr>\n",
       "    <tr>\n",
       "      <th>min</th>\n",
       "      <td>1.000000</td>\n",
       "      <td>25.000000</td>\n",
       "      <td>1.000000</td>\n",
       "      <td>0.000000</td>\n",
       "      <td>1.000000</td>\n",
       "      <td>46.000000</td>\n",
       "      <td>150.000000</td>\n",
       "      <td>17.170000</td>\n",
       "      <td>0.000000</td>\n",
       "      <td>0.000000</td>\n",
       "      <td>...</td>\n",
       "      <td>0.000000</td>\n",
       "      <td>0.000000</td>\n",
       "      <td>0.000000</td>\n",
       "      <td>0.000000</td>\n",
       "      <td>1.000000</td>\n",
       "      <td>2145.000000</td>\n",
       "      <td>5.000000</td>\n",
       "      <td>0.000000</td>\n",
       "      <td>3089.000000</td>\n",
       "      <td>6.000000</td>\n",
       "    </tr>\n",
       "    <tr>\n",
       "      <th>25%</th>\n",
       "      <td>1.000000</td>\n",
       "      <td>36.000000</td>\n",
       "      <td>1.000000</td>\n",
       "      <td>0.000000</td>\n",
       "      <td>1.000000</td>\n",
       "      <td>64.000000</td>\n",
       "      <td>164.000000</td>\n",
       "      <td>22.940000</td>\n",
       "      <td>0.000000</td>\n",
       "      <td>0.000000</td>\n",
       "      <td>...</td>\n",
       "      <td>0.000000</td>\n",
       "      <td>0.000000</td>\n",
       "      <td>0.000000</td>\n",
       "      <td>0.000000</td>\n",
       "      <td>2.000000</td>\n",
       "      <td>23264.000000</td>\n",
       "      <td>604.250000</td>\n",
       "      <td>2.000000</td>\n",
       "      <td>30682.500000</td>\n",
       "      <td>716.250000</td>\n",
       "    </tr>\n",
       "    <tr>\n",
       "      <th>50%</th>\n",
       "      <td>2.000000</td>\n",
       "      <td>47.000000</td>\n",
       "      <td>2.000000</td>\n",
       "      <td>1.000000</td>\n",
       "      <td>2.000000</td>\n",
       "      <td>78.000000</td>\n",
       "      <td>170.000000</td>\n",
       "      <td>26.300000</td>\n",
       "      <td>1.000000</td>\n",
       "      <td>0.000000</td>\n",
       "      <td>...</td>\n",
       "      <td>0.000000</td>\n",
       "      <td>0.000000</td>\n",
       "      <td>0.000000</td>\n",
       "      <td>0.000000</td>\n",
       "      <td>3.000000</td>\n",
       "      <td>42602.000000</td>\n",
       "      <td>961.000000</td>\n",
       "      <td>5.000000</td>\n",
       "      <td>54642.000000</td>\n",
       "      <td>1153.500000</td>\n",
       "    </tr>\n",
       "    <tr>\n",
       "      <th>75%</th>\n",
       "      <td>2.000000</td>\n",
       "      <td>62.000000</td>\n",
       "      <td>3.000000</td>\n",
       "      <td>1.000000</td>\n",
       "      <td>2.000000</td>\n",
       "      <td>90.000000</td>\n",
       "      <td>178.000000</td>\n",
       "      <td>29.970000</td>\n",
       "      <td>2.000000</td>\n",
       "      <td>0.000000</td>\n",
       "      <td>...</td>\n",
       "      <td>0.000000</td>\n",
       "      <td>0.000000</td>\n",
       "      <td>0.000000</td>\n",
       "      <td>0.000000</td>\n",
       "      <td>5.000000</td>\n",
       "      <td>58830.250000</td>\n",
       "      <td>1400.750000</td>\n",
       "      <td>8.000000</td>\n",
       "      <td>77647.500000</td>\n",
       "      <td>1743.750000</td>\n",
       "    </tr>\n",
       "    <tr>\n",
       "      <th>max</th>\n",
       "      <td>2.000000</td>\n",
       "      <td>75.000000</td>\n",
       "      <td>3.000000</td>\n",
       "      <td>1.000000</td>\n",
       "      <td>2.000000</td>\n",
       "      <td>106.000000</td>\n",
       "      <td>190.000000</td>\n",
       "      <td>38.540000</td>\n",
       "      <td>2.000000</td>\n",
       "      <td>1.000000</td>\n",
       "      <td>...</td>\n",
       "      <td>1.000000</td>\n",
       "      <td>1.000000</td>\n",
       "      <td>1.000000</td>\n",
       "      <td>1.000000</td>\n",
       "      <td>8.000000</td>\n",
       "      <td>102990.000000</td>\n",
       "      <td>2745.000000</td>\n",
       "      <td>20.000000</td>\n",
       "      <td>143791.000000</td>\n",
       "      <td>3617.000000</td>\n",
       "    </tr>\n",
       "  </tbody>\n",
       "</table>\n",
       "<p>8 rows × 36 columns</p>\n",
       "</div>"
      ],
      "text/plain": [
       "              sex         age  educational_status  partner_status  \\\n",
       "count  566.000000  564.000000          561.000000      561.000000   \n",
       "mean     1.526502   48.753546            1.909091        0.520499   \n",
       "std      0.499739   14.723789            0.806628        0.500025   \n",
       "min      1.000000   25.000000            1.000000        0.000000   \n",
       "25%      1.000000   36.000000            1.000000        0.000000   \n",
       "50%      2.000000   47.000000            2.000000        1.000000   \n",
       "75%      2.000000   62.000000            3.000000        1.000000   \n",
       "max      2.000000   75.000000            3.000000        1.000000   \n",
       "\n",
       "       employment_status      weight      height         BMI   treatment  \\\n",
       "count         561.000000  561.000000  561.000000  561.000000  561.000000   \n",
       "mean            1.522282   77.306595  170.602496   26.537683    0.898396   \n",
       "std             0.499949   15.792022   10.074398    4.984085    0.835815   \n",
       "min             1.000000   46.000000  150.000000   17.170000    0.000000   \n",
       "25%             1.000000   64.000000  164.000000   22.940000    0.000000   \n",
       "50%             2.000000   78.000000  170.000000   26.300000    1.000000   \n",
       "75%             2.000000   90.000000  178.000000   29.970000    2.000000   \n",
       "max             2.000000  106.000000  190.000000   38.540000    2.000000   \n",
       "\n",
       "              EMI  ...     nitrate    diuretic  psychotropic  \\\n",
       "count  559.000000  ...  561.000000  561.000000    561.000000   \n",
       "mean     0.157424  ...    0.119430    0.160428      0.119430   \n",
       "std      0.364526  ...    0.324583    0.367330      0.324583   \n",
       "min      0.000000  ...    0.000000    0.000000      0.000000   \n",
       "25%      0.000000  ...    0.000000    0.000000      0.000000   \n",
       "50%      0.000000  ...    0.000000    0.000000      0.000000   \n",
       "75%      0.000000  ...    0.000000    0.000000      0.000000   \n",
       "max      1.000000  ...    1.000000    1.000000      1.000000   \n",
       "\n",
       "       angiotensin2_receptor_blocker        week          steps    mvpa_mins  \\\n",
       "count                     561.000000  561.000000     566.000000   566.000000   \n",
       "mean                        0.155080    3.522282   42170.001767  1023.332155   \n",
       "std                         0.362304    1.925381   22804.693283   624.349263   \n",
       "min                         0.000000    1.000000    2145.000000     5.000000   \n",
       "25%                         0.000000    2.000000   23264.000000   604.250000   \n",
       "50%                         0.000000    3.000000   42602.000000   961.000000   \n",
       "75%                         0.000000    5.000000   58830.250000  1400.750000   \n",
       "max                         1.000000    8.000000  102990.000000  2745.000000   \n",
       "\n",
       "       perception     steps_goal  mvpa_mins_goal  \n",
       "count  566.000000     531.000000      530.000000  \n",
       "mean     5.328622   55226.549906     1260.035849  \n",
       "std      4.213101   30099.992532      773.527674  \n",
       "min      0.000000    3089.000000        6.000000  \n",
       "25%      2.000000   30682.500000      716.250000  \n",
       "50%      5.000000   54642.000000     1153.500000  \n",
       "75%      8.000000   77647.500000     1743.750000  \n",
       "max     20.000000  143791.000000     3617.000000  \n",
       "\n",
       "[8 rows x 36 columns]"
      ]
     },
     "execution_count": 135,
     "metadata": {},
     "output_type": "execute_result"
    }
   ],
   "source": [
    "df.describe()"
   ]
  },
  {
   "cell_type": "code",
   "execution_count": 136,
   "id": "7a3a47ad",
   "metadata": {},
   "outputs": [
    {
     "data": {
      "text/plain": [
       "Index(['sex', 'age', 'educational_status', 'partner_status',\n",
       "       'employment_status', 'weight', 'height', 'BMI', 'treatment', 'EMI',\n",
       "       'EAP', 'EPTCA', 'ECABG', 'ECVA_TIA', 'riskfactor_familyhistory',\n",
       "       'riskfactor_DM', 'riskfactor_hypertension', 'riskfactor_dyslipidemia',\n",
       "       'riskfactor_smoking', 'acetylsalicylic_acid',\n",
       "       'cholesterol_lowering_med', 'ACE_inhibitor', 'calcium_blocker',\n",
       "       'beta_blocker', 'thienopyridine', 'oral_anticoagulant', 'nitrate',\n",
       "       'diuretic', 'psychotropic', 'angiotensin2_receptor_blocker', 'week',\n",
       "       'steps', 'mvpa_mins', 'perception', 'steps_goal', 'mvpa_mins_goal'],\n",
       "      dtype='object')"
      ]
     },
     "execution_count": 136,
     "metadata": {},
     "output_type": "execute_result"
    }
   ],
   "source": [
    "df.columns"
   ]
  },
  {
   "cell_type": "code",
   "execution_count": 137,
   "id": "531d6c18",
   "metadata": {},
   "outputs": [
    {
     "name": "stderr",
     "output_type": "stream",
     "text": [
      "2025-06-06 16:46:01,687 - INFO - Deleted rows with missing targets\n"
     ]
    },
    {
     "name": "stdout",
     "output_type": "stream",
     "text": [
      "THis is the shape of data (525, 36)\n"
     ]
    }
   ],
   "source": [
    "df = df.dropna(subset=['steps_goal', 'mvpa_mins_goal'])\n",
    "logger.info(\"Deleted rows with missing targets\")\n",
    "print(f\"THis is the shape of data {df.shape}\")"
   ]
  },
  {
   "cell_type": "code",
   "execution_count": 138,
   "id": "be4e1bfa",
   "metadata": {},
   "outputs": [
    {
     "name": "stderr",
     "output_type": "stream",
     "text": [
      "2025-06-06 16:46:01,889 - INFO - Added new features\n"
     ]
    }
   ],
   "source": [
    "df['weight_height_ratio'] = df['weight'] / df['height']\n",
    "df['steps_week_interaction'] = df['steps'] * df['week']\n",
    "logger.info(\"Added new features\")"
   ]
  },
  {
   "cell_type": "code",
   "execution_count": 139,
   "id": "1291013d",
   "metadata": {},
   "outputs": [
    {
     "name": "stderr",
     "output_type": "stream",
     "text": [
      "2025-06-06 16:46:02,035 - INFO - Dropped the week column\n"
     ]
    }
   ],
   "source": [
    "# Drop the 'week' column\n",
    "df = df.drop('week', axis=1)\n",
    "logger.info(\"Dropped the week column\")"
   ]
  },
  {
   "cell_type": "markdown",
   "id": "fc44690f",
   "metadata": {},
   "source": [
    "# Split features and targets"
   ]
  },
  {
   "cell_type": "code",
   "execution_count": 140,
   "id": "8109c433",
   "metadata": {},
   "outputs": [],
   "source": [
    "\n",
    "X = df.drop(['steps_goal', 'mvpa_mins_goal'], axis=1)\n",
    "y = df[['steps_goal', 'mvpa_mins_goal']]"
   ]
  },
  {
   "cell_type": "markdown",
   "id": "51f05bd1",
   "metadata": {},
   "source": [
    "# Split data into train, validation, and holdout"
   ]
  },
  {
   "cell_type": "code",
   "execution_count": 141,
   "id": "f30536cb",
   "metadata": {},
   "outputs": [
    {
     "name": "stderr",
     "output_type": "stream",
     "text": [
      "2025-06-06 16:46:02,925 - INFO - Data split into train, validation, and holdout\n"
     ]
    },
    {
     "name": "stdout",
     "output_type": "stream",
     "text": [
      "X_train: (356, 35) X_val: (90, 35) X_holdout: (79, 35)\n"
     ]
    }
   ],
   "source": [
    "X_temp, X_holdout, y_temp, y_holdout = train_test_split(X, y, test_size=0.15, random_state=SEED)\n",
    "X_train, X_val, y_train, y_val = train_test_split(X_temp, y_temp, test_size=0.2, random_state=SEED)\n",
    "logger.info(\"Data split into train, validation, and holdout\")\n",
    "print(\"X_train:\", X_train.shape, \"X_val:\", X_val.shape, \"X_holdout:\", X_holdout.shape)"
   ]
  },
  {
   "cell_type": "code",
   "execution_count": 142,
   "id": "8d9a9852",
   "metadata": {},
   "outputs": [],
   "source": [
    "numeric_columns = ['age', 'weight', 'height', 'BMI', 'steps', 'mvpa_mins', 'weight_height_ratio', 'steps_week_interaction']\n",
    "categorical_columns = ['educational_status', 'partner_status', 'employment_status', \n",
    "                      'treatment', 'riskfactor_familyhistory', 'riskfactor_DM', \n",
    "                      'riskfactor_hypertension', 'riskfactor_dyslipidemia', \n",
    "                      'riskfactor_smoking', 'acetylsalicylic_acid', \n",
    "                      'cholesterol_lowering_med', 'ACE_inhibitor', \n",
    "                      'calcium_blocker', 'beta_blocker', 'thienopyridine', \n",
    "                      'nitrate', 'diuretic', 'psychotropic', \n",
    "                      'angiotensin2_receptor_blocker']\n",
    "extra_columns = ['EMI', 'EAP', 'EPTCA', 'ECABG', 'ECVA_TIA']"
   ]
  },
  {
   "cell_type": "markdown",
   "id": "bb8d1b00",
   "metadata": {},
   "source": [
    "# Multiple Imputation using IterativeImputer (MICE)\n",
    "# We apply imputation after splitting to avoid data leakage"
   ]
  },
  {
   "cell_type": "code",
   "execution_count": 143,
   "id": "e3ae1cf9",
   "metadata": {},
   "outputs": [],
   "source": [
    "all_columns = numeric_columns + categorical_columns + extra_columns\n",
    "imputer = IterativeImputer(max_iter=10, random_state=SEED)\n",
    "X_train_imputed = imputer.fit_transform(X_train[all_columns])\n",
    "X_val_imputed = imputer.transform(X_val[all_columns])\n",
    "X_holdout_imputed = imputer.transform(X_holdout[all_columns])"
   ]
  },
  {
   "cell_type": "code",
   "execution_count": 144,
   "id": "1c991c36",
   "metadata": {},
   "outputs": [
    {
     "name": "stderr",
     "output_type": "stream",
     "text": [
      "2025-06-06 16:46:08,238 - INFO - Missing values imputed using Multiple Imputation (MICE)\n"
     ]
    }
   ],
   "source": [
    "X_train = pd.DataFrame(X_train_imputed, columns=all_columns, index=X_train.index)\n",
    "X_val = pd.DataFrame(X_val_imputed, columns=all_columns, index=X_val.index)\n",
    "X_holdout = pd.DataFrame(X_holdout_imputed, columns=all_columns, index=X_holdout.index)\n",
    "logger.info(\"Missing values imputed using Multiple Imputation (MICE)\")"
   ]
  },
  {
   "cell_type": "code",
   "execution_count": 145,
   "id": "b8325fd1",
   "metadata": {},
   "outputs": [
    {
     "name": "stderr",
     "output_type": "stream",
     "text": [
      "2025-06-06 16:46:08,602 - INFO - Outliers clipped using train statistics\n"
     ]
    }
   ],
   "source": [
    "for col in numeric_columns:\n",
    "    Q1 = X_train[col].quantile(0.25)\n",
    "    Q3 = X_train[col].quantile(0.75)\n",
    "    IQR = Q3 - Q1\n",
    "    lower_bound = Q1 - 1.5 * IQR\n",
    "    upper_bound = Q3 + 1.5 * IQR\n",
    "    X_train[col] = X_train[col].clip(lower=lower_bound, upper=upper_bound)\n",
    "    X_val[col] = X_val[col].clip(lower=lower_bound, upper=upper_bound)\n",
    "    X_holdout[col] = X_holdout[col].clip(lower=lower_bound, upper=upper_bound)\n",
    "logger.info(\"Outliers clipped using train statistics\")"
   ]
  },
  {
   "cell_type": "code",
   "execution_count": 146,
   "id": "cb5a9054",
   "metadata": {},
   "outputs": [],
   "source": [
    "X_train.to_csv('../data/X_train_cleaned.csv', index=False)"
   ]
  },
  {
   "cell_type": "markdown",
   "id": "a9a0a0c5",
   "metadata": {},
   "source": [
    "## Pipeline"
   ]
  },
  {
   "cell_type": "code",
   "execution_count": 147,
   "id": "349e217d",
   "metadata": {},
   "outputs": [],
   "source": [
    "num_features = all_columns"
   ]
  },
  {
   "cell_type": "code",
   "execution_count": null,
   "id": "96022270",
   "metadata": {},
   "outputs": [],
   "source": [
    "numeric_transformer = Pipeline([\n",
    "    ('scaler', StandardScaler()),\n",
    "    ('selector', SelectKBest(f_regression, k=10))\n",
    "])\n",
    "preprocessor = Pipeline([\n",
    "    ('column_transformer', ColumnTransformer([\n",
    "        ('num', numeric_transformer, num_features)\n",
    "    ]))\n",
    "])"
   ]
  },
  {
   "cell_type": "code",
   "execution_count": 163,
   "id": "703eb622",
   "metadata": {},
   "outputs": [],
   "source": [
    "X_train_preprocessed = preprocessor.fit_transform(X_train, y_train['steps_goal'])\n",
    "X_val_preprocessed = preprocessor.transform(X_val)\n",
    "X_holdout_preprocessed = preprocessor.transform(X_holdout)"
   ]
  },
  {
   "cell_type": "code",
   "execution_count": 164,
   "id": "349b2b49",
   "metadata": {},
   "outputs": [
    {
     "name": "stderr",
     "output_type": "stream",
     "text": [
      "2025-06-06 16:48:31,853 - INFO - Feature selection completed\n"
     ]
    },
    {
     "name": "stdout",
     "output_type": "stream",
     "text": [
      "Selected features: ['weight', 'steps', 'mvpa_mins', 'steps_week_interaction', 'riskfactor_hypertension', 'riskfactor_smoking', 'acetylsalicylic_acid', 'beta_blocker', 'psychotropic', 'angiotensin2_receptor_blocker']\n"
     ]
    }
   ],
   "source": [
    "selected_features_mask = preprocessor.named_steps['column_transformer'].named_transformers_['num'].named_steps['selector'].get_support()\n",
    "selected_features = [num_features[i] for i in range(len(num_features)) if selected_features_mask[i]]\n",
    "print(\"Selected features:\", selected_features)\n",
    "logger.info(\"Feature selection completed\")"
   ]
  },
  {
   "cell_type": "code",
   "execution_count": 167,
   "id": "866f10fe",
   "metadata": {},
   "outputs": [],
   "source": [
    "cv = RepeatedKFold(n_splits=5, n_repeats=2, random_state=SEED)"
   ]
  },
  {
   "cell_type": "markdown",
   "id": "1ffe8dad",
   "metadata": {},
   "source": [
    "# model"
   ]
  },
  {
   "cell_type": "code",
   "execution_count": 172,
   "id": "6e3ed2fe",
   "metadata": {},
   "outputs": [],
   "source": [
    "models = {\n",
    "    'Linear': LinearRegression(),\n",
    "    'Ridge': Ridge(),\n",
    "    'Lasso': Lasso(),\n",
    "    'ElasticNet': ElasticNet(),\n",
    "    'KNN': KNeighborsRegressor(),\n",
    "    'MLP': MLPRegressor(max_iter=1000, random_state=SEED),\n",
    "    'ExtraTrees': ExtraTreesRegressor(random_state=SEED),\n",
    "    'RandomForest': RandomForestRegressor(random_state=SEED),\n",
    "    'GradientBoosting': GradientBoostingRegressor(random_state=SEED),\n",
    "    'XGBoost': XGBRegressor(random_state=SEED),\n",
    "}\n"
   ]
  },
  {
   "cell_type": "markdown",
   "id": "110eb607",
   "metadata": {},
   "source": [
    "# r2_scores"
   ]
  },
  {
   "cell_type": "code",
   "execution_count": 174,
   "id": "18f869c2",
   "metadata": {},
   "outputs": [
    {
     "name": "stderr",
     "output_type": "stream",
     "text": [
      "2025-06-06 17:05:48,661 - INFO - Training Linear for target: step_goal\n"
     ]
    },
    {
     "name": "stderr",
     "output_type": "stream",
     "text": [
      "2025-06-06 17:05:58,063 - INFO - Training Linear for target: mvpa_goal\n",
      "2025-06-06 17:06:06,657 - INFO - Training Ridge for target: step_goal\n",
      "2025-06-06 17:06:13,281 - INFO - Training Ridge for target: mvpa_goal\n",
      "2025-06-06 17:06:19,500 - INFO - Training Lasso for target: step_goal\n",
      "2025-06-06 17:06:27,510 - INFO - Training Lasso for target: mvpa_goal\n",
      "2025-06-06 17:06:34,626 - INFO - Training ElasticNet for target: step_goal\n",
      "2025-06-06 17:06:40,492 - INFO - Training ElasticNet for target: mvpa_goal\n",
      "2025-06-06 17:06:47,718 - INFO - Training KNN for target: step_goal\n",
      "2025-06-06 17:06:54,948 - INFO - Training KNN for target: mvpa_goal\n",
      "2025-06-06 17:07:02,057 - INFO - Training MLP for target: step_goal\n",
      "2025-06-06 17:07:43,690 - INFO - Training MLP for target: mvpa_goal\n",
      "2025-06-06 17:08:28,787 - INFO - Training ExtraTrees for target: step_goal\n",
      "2025-06-06 17:08:41,208 - INFO - Training ExtraTrees for target: mvpa_goal\n",
      "2025-06-06 17:08:53,913 - INFO - Training RandomForest for target: step_goal\n",
      "2025-06-06 17:09:09,541 - INFO - Training RandomForest for target: mvpa_goal\n",
      "2025-06-06 17:09:24,197 - INFO - Training GradientBoosting for target: step_goal\n",
      "2025-06-06 17:09:34,057 - INFO - Training GradientBoosting for target: mvpa_goal\n",
      "2025-06-06 17:09:44,115 - INFO - Training XGBoost for target: step_goal\n",
      "2025-06-06 17:09:53,472 - INFO - Training XGBoost for target: mvpa_goal\n"
     ]
    },
    {
     "name": "stdout",
     "output_type": "stream",
     "text": [
      "                  step_goal_R2  step_goal_MAE  step_goal_RMSE  mvpa_goal_R2  \\\n",
      "Ridge                 0.963354    4281.417956     5604.196605      0.982465   \n",
      "Lasso                 0.963351    4284.306969     5602.659483      0.982700   \n",
      "Linear                0.963340    4285.026459     5603.491327      0.982453   \n",
      "GradientBoosting      0.957595    4476.649917     6045.543196      0.977188   \n",
      "RandomForest          0.957192    4521.729776     6064.193390      0.978084   \n",
      "ExtraTrees            0.953101    4750.553441     6361.841768      0.976542   \n",
      "XGBoost               0.949583    4779.591549     6559.012275      0.972596   \n",
      "ElasticNet            0.857412    9104.181057    11154.718265      0.862475   \n",
      "KNN                   0.787871   10025.370664    13586.372865      0.809611   \n",
      "MLP                  -3.367862   54362.693787    61358.278892      0.444393   \n",
      "\n",
      "                  mvpa_goal_MAE  mvpa_goal_RMSE  \n",
      "Ridge                 76.597743      103.575004  \n",
      "Lasso                 75.700781      102.863018  \n",
      "Linear                76.385734      103.581811  \n",
      "GradientBoosting      83.535993      118.245661  \n",
      "RandomForest          82.716642      115.777157  \n",
      "ExtraTrees            84.373674      119.767176  \n",
      "XGBoost               90.470271      129.388521  \n",
      "ElasticNet           231.701078      290.272784  \n",
      "KNN                  251.498527      338.022735  \n",
      "MLP                  444.479846      571.938994  \n"
     ]
    }
   ],
   "source": [
    "targets = ['step_goal', 'mvpa_goal']\n",
    "results_cv = {}\n",
    "\n",
    "for name, model in models.items():\n",
    "    results_cv[name] = {}\n",
    "    for i, target in enumerate(targets):\n",
    "        logger.info(f\"Training {name} for target: {target}\")\n",
    "\n",
    "        pipeline = Pipeline([\n",
    "            ('imputer', IterativeImputer(max_iter=10, random_state=SEED)),\n",
    "            ('scaler', StandardScaler()),\n",
    "            ('selector', SelectKBest(score_func=f_regression, k=10)),\n",
    "            ('regressor', model)\n",
    "        ])\n",
    "\n",
    "        scores = cross_validate(\n",
    "            pipeline, X_temp, y_temp.iloc[:, i],\n",
    "            scoring=['r2', 'neg_mean_absolute_error', 'neg_root_mean_squared_error'],\n",
    "            cv=cv,\n",
    "            return_train_score=False,\n",
    "            n_jobs=-1\n",
    "        )\n",
    "\n",
    "        results_cv[name][f'{target}_R2'] = np.mean(scores['test_r2'])\n",
    "        results_cv[name][f'{target}_MAE'] = -np.mean(scores['test_neg_mean_absolute_error'])\n",
    "        results_cv[name][f'{target}_RMSE'] = -np.mean(scores['test_neg_root_mean_squared_error'])\n",
    "\n",
    "\n",
    "df_cv_results = pd.DataFrame(results_cv).T\n",
    "df_cv_results = df_cv_results.sort_values(by=['step_goal_R2'], ascending=False)\n",
    "print(df_cv_results)\n"
   ]
  },
  {
   "cell_type": "code",
   "execution_count": 154,
   "id": "3c2f4056",
   "metadata": {},
   "outputs": [
    {
     "name": "stderr",
     "output_type": "stream",
     "text": [
      "2025-06-06 16:46:33,988 - INFO - Training and evaluating Linear model\n",
      "2025-06-06 16:46:34,049 - INFO - Linear - MAE for steps_goal: 3911.8087, MAE for mvpa_mins_goal: 79.5706\n",
      "2025-06-06 16:46:34,054 - INFO - Training and evaluating Ridge model\n",
      "2025-06-06 16:46:34,100 - INFO - Ridge - MAE for steps_goal: 3888.6513, MAE for mvpa_mins_goal: 80.1527\n",
      "2025-06-06 16:46:34,122 - INFO - Training and evaluating Lasso model\n",
      "2025-06-06 16:46:34,247 - INFO - Lasso - MAE for steps_goal: 3909.9096, MAE for mvpa_mins_goal: 79.9229\n",
      "2025-06-06 16:46:34,253 - INFO - Training and evaluating ElasticNet model\n",
      "2025-06-06 16:46:34,412 - INFO - ElasticNet - MAE for steps_goal: 8461.8573, MAE for mvpa_mins_goal: 248.8004\n",
      "2025-06-06 16:46:34,419 - INFO - Training and evaluating KNN model\n",
      "2025-06-06 16:46:34,471 - INFO - KNN - MAE for steps_goal: 8229.3822, MAE for mvpa_mins_goal: 219.4467\n",
      "2025-06-06 16:46:34,481 - INFO - Training and evaluating MLP model\n",
      "2025-06-06 16:46:43,144 - INFO - MLP - MAE for steps_goal: 51720.7839, MAE for mvpa_mins_goal: 880.2046\n",
      "2025-06-06 16:46:43,147 - INFO - Training and evaluating ExtraTrees model\n",
      "2025-06-06 16:46:48,029 - INFO - ExtraTrees - MAE for steps_goal: 4501.7960, MAE for mvpa_mins_goal: 91.7417\n",
      "2025-06-06 16:46:48,038 - INFO - Training and evaluating RandomForest model\n",
      "2025-06-06 16:46:51,858 - INFO - RandomForest - MAE for steps_goal: 4330.7248, MAE for mvpa_mins_goal: 88.2893\n",
      "2025-06-06 16:46:51,864 - INFO - Training and evaluating GradientBoosting model\n",
      "2025-06-06 16:46:54,078 - INFO - GradientBoosting - MAE for steps_goal: 3864.5037, MAE for mvpa_mins_goal: 88.3854\n",
      "2025-06-06 16:46:54,092 - INFO - Training and evaluating XGBoost model\n",
      "2025-06-06 16:47:18,579 - INFO - XGBoost - MAE for steps_goal: 4350.0410, MAE for mvpa_mins_goal: 95.7699\n"
     ]
    }
   ],
   "source": [
    "result_mae_scores = {}\n",
    "for name, model in models.items():\n",
    "    logger.info(f\"Training and evaluating {name} model\")\n",
    "    model.fit(X_train_preprocessed, y_train)\n",
    "    y_pred = model.predict(X_val_preprocessed)\n",
    "    mae_scores = mean_absolute_error(y_val, y_pred, multioutput='raw_values')\n",
    "    \n",
    "    result_mae_scores[name] = {}  \n",
    "    result_mae_scores[name]['MAE_steps_goal'] = mae_scores[0]\n",
    "    result_mae_scores[name]['MAE_mvpa_mins_goal'] = mae_scores[1]\n",
    "    \n",
    "    logger.info(f\"{name} - MAE for steps_goal: {mae_scores[0]:.4f}, MAE for mvpa_mins_goal: {mae_scores[1]:.4f}\")\n"
   ]
  },
  {
   "cell_type": "code",
   "execution_count": 155,
   "id": "e3a4af79",
   "metadata": {},
   "outputs": [
    {
     "data": {
      "image/png": "[encoded data removed]",
      "text/plain": [
       "<Figure size 1200x600 with 2 Axes>"
      ]
     },
     "metadata": {},
     "output_type": "display_data"
    },
    {
     "name": "stderr",
     "output_type": "stream",
     "text": [
      "2025-06-06 16:47:22,888 - INFO - MAE comparison plots saved as '../photo/r2_comparison.png'\n"
     ]
    }
   ],
   "source": [
    "plt.figure(figsize=(12, 6))\n",
    "\n",
    "# Bar plot for MAE of steps_goal\n",
    "plt.subplot(1, 2, 1)\n",
    "model_names = list(result_mae_scores.keys())\n",
    "r2_steps = [result_mae_scores[name]['MAE_steps_goal'] for name in model_names]\n",
    "sns.barplot(x=r2_steps, y=model_names, palette='viridis')\n",
    "plt.title('MAE Scores for steps_goal')\n",
    "plt.xlabel('MAE Score')\n",
    "plt.ylabel('Model')\n",
    "\n",
    "# Bar plot for MAE of mvpa_mins_goal\n",
    "plt.subplot(1, 2, 2)\n",
    "r2_mvpa = [result_mae_scores[name]['MAE_mvpa_mins_goal'] for name in model_names]\n",
    "sns.barplot(x=r2_mvpa, y=model_names, palette='viridis')\n",
    "plt.title('MAE Scores for mvpa_mins_goal')\n",
    "plt.xlabel('MAE Score')\n",
    "plt.ylabel('Model')\n",
    "\n",
    "plt.tight_layout()\n",
    "plt.savefig('../photo/r2_comparison.png')\n",
    "plt.show()\n",
    "logger.info(\"MAE comparison plots saved as '../photo/r2_comparison.png'\")"
   ]
  },
  {
   "cell_type": "code",
   "execution_count": null,
   "id": "724231a0",
   "metadata": {},
   "outputs": [],
   "source": []
  }
 ],
 "metadata": {
  "kernelspec": {
   "display_name": "env",
   "language": "python",
   "name": "python3"
  },
  "language_info": {
   "codemirror_mode": {
    "name": "ipython",
    "version": 3
   },
   "file_extension": ".py",
   "mimetype": "text/x-python",
   "name": "python",
   "nbconvert_exporter": "python",
   "pygments_lexer": "ipython3",
   "version": "3.12.3"
  }
 },
 "nbformat": 4,
 "nbformat_minor": 5
}
